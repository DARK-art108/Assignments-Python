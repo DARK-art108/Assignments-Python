{
  "nbformat": 4,
  "nbformat_minor": 0,
  "metadata": {
    "colab": {
      "name": "Python Assignment 2.ipynb",
      "provenance": []
    },
    "kernelspec": {
      "name": "python3",
      "display_name": "Python 3"
    }
  },
  "cells": [
    {
      "cell_type": "markdown",
      "metadata": {
        "id": "xIEBCUsixkFG",
        "colab_type": "text"
      },
      "source": [
        "Answer 1"
      ]
    },
    {
      "cell_type": "code",
      "metadata": {
        "id": "UWhbCRuAbubF",
        "colab_type": "code",
        "colab": {
          "base_uri": "https://localhost:8080/",
          "height": 190
        },
        "outputId": "84aadb0a-e987-4866-bb6d-bd5df9db99da"
      },
      "source": [
        "for row in range(5,-5,-1):\n",
        "  for col in range(5,abs(row),-1):\n",
        "    print(\"*\",end=\"\")\n",
        "  print()  "
      ],
      "execution_count": 1,
      "outputs": [
        {
          "output_type": "stream",
          "text": [
            "\n",
            "*\n",
            "**\n",
            "***\n",
            "****\n",
            "*****\n",
            "****\n",
            "***\n",
            "**\n",
            "*\n"
          ],
          "name": "stdout"
        }
      ]
    },
    {
      "cell_type": "markdown",
      "metadata": {
        "id": "ogSev6z2xnW9",
        "colab_type": "text"
      },
      "source": [
        "Answer 2"
      ]
    },
    {
      "cell_type": "code",
      "metadata": {
        "id": "_lwLRwNqcbMn",
        "colab_type": "code",
        "colab": {
          "base_uri": "https://localhost:8080/",
          "height": 52
        },
        "outputId": "a6ec945b-754f-4e74-e9b2-cf4ae597f2f9"
      },
      "source": [
        "name = str(input())\n",
        "print(name[::-1])"
      ],
      "execution_count": 5,
      "outputs": [
        {
          "output_type": "stream",
          "text": [
            "ineuron\n",
            "norueni\n"
          ],
          "name": "stdout"
        }
      ]
    }
  ]
}